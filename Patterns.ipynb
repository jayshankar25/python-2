{
 "cells": [
  {
   "cell_type": "markdown",
   "metadata": {},
   "source": [
    "## pattern in python 2"
   ]
  },
  {
   "cell_type": "code",
   "execution_count": 1,
   "metadata": {},
   "outputs": [
    {
     "name": "stdout",
     "output_type": "stream",
     "text": [
      "1\n",
      "2\n",
      "3\n",
      "4\n",
      "5\n"
     ]
    }
   ],
   "source": [
    "for i in range(1,6):\n",
    "    print i"
   ]
  },
  {
   "cell_type": "code",
   "execution_count": 3,
   "metadata": {},
   "outputs": [
    {
     "name": "stdout",
     "output_type": "stream",
     "text": [
      "Enter a no. :- 8\n",
      "1 2 3 4 5 6 7 8\n"
     ]
    }
   ],
   "source": [
    "n = int(raw_input(\"Enter a no. :- \"))\n",
    "\n",
    "for i in range(1,n+1):\n",
    "    print i,"
   ]
  },
  {
   "cell_type": "markdown",
   "metadata": {},
   "source": [
    "## Number Pattern"
   ]
  },
  {
   "cell_type": "code",
   "execution_count": 4,
   "metadata": {},
   "outputs": [
    {
     "name": "stdout",
     "output_type": "stream",
     "text": [
      "Enter a number :- 5\n",
      "1\n",
      "1 2\n",
      "1 2 3\n",
      "1 2 3 4\n",
      "1 2 3 4 5\n"
     ]
    }
   ],
   "source": [
    "n = int(raw_input('Enter a number :- '))\n",
    "\n",
    "for i in range(1,n+1):\n",
    "    for j in range(1,i+1):\n",
    "        print j,\n",
    "    print "
   ]
  },
  {
   "cell_type": "code",
   "execution_count": 5,
   "metadata": {},
   "outputs": [
    {
     "name": "stdout",
     "output_type": "stream",
     "text": [
      "Enter a number :- 5\n",
      "1\n",
      "2 2\n",
      "3 3 3\n",
      "4 4 4 4\n",
      "5 5 5 5 5\n"
     ]
    }
   ],
   "source": [
    "n = int(raw_input('Enter a number :- '))\n",
    "\n",
    "for i in range(1,n+1):\n",
    "    for j in range(1,i+1):\n",
    "        print i,\n",
    "    print"
   ]
  },
  {
   "cell_type": "code",
   "execution_count": 6,
   "metadata": {},
   "outputs": [
    {
     "name": "stdout",
     "output_type": "stream",
     "text": [
      "Enter a number :- 6\n",
      "           1\n",
      "         1 2\n",
      "       1 2 3\n",
      "     1 2 3 4\n",
      "   1 2 3 4 5\n",
      " 1 2 3 4 5 6\n"
     ]
    }
   ],
   "source": [
    "n = int(raw_input('Enter a number :- '))\n",
    "    \n",
    "for i in range(1,n+1):\n",
    "    print '  '*(n-i),\n",
    "    for j in range(1,i+1):\n",
    "        print j,\n",
    "    print"
   ]
  },
  {
   "cell_type": "code",
   "execution_count": 7,
   "metadata": {},
   "outputs": [
    {
     "name": "stdout",
     "output_type": "stream",
     "text": [
      "Enter a number :- 6\n",
      "           1\n",
      "         2 2\n",
      "       3 3 3\n",
      "     4 4 4 4\n",
      "   5 5 5 5 5\n",
      " 6 6 6 6 6 6\n"
     ]
    }
   ],
   "source": [
    "n = int(raw_input('Enter a number :- '))\n",
    "\n",
    "for i in range(1,n+1):\n",
    "    print '  '*(n-i),\n",
    "    for j in range(1,i+1):\n",
    "        print i,\n",
    "    print"
   ]
  },
  {
   "cell_type": "code",
   "execution_count": 8,
   "metadata": {},
   "outputs": [
    {
     "name": "stdout",
     "output_type": "stream",
     "text": [
      "Enter a number :- 7\n",
      "1 2 3 4 5 6 7\n",
      "1 2 3 4 5 6\n",
      "1 2 3 4 5\n",
      "1 2 3 4\n",
      "1 2 3\n",
      "1 2\n",
      "1\n"
     ]
    }
   ],
   "source": [
    "n = int(raw_input('Enter a number :- '))\n",
    "\n",
    "for i in range(n,0,-1):\n",
    "    for j in range(1,i+1):\n",
    "        print j,\n",
    "    print"
   ]
  },
  {
   "cell_type": "code",
   "execution_count": 9,
   "metadata": {},
   "outputs": [
    {
     "name": "stdout",
     "output_type": "stream",
     "text": [
      "Enter a number :- 7\n",
      "7 6 5 4 3 2 1\n",
      "6 5 4 3 2 1\n",
      "5 4 3 2 1\n",
      "4 3 2 1\n",
      "3 2 1\n",
      "2 1\n",
      "1\n"
     ]
    }
   ],
   "source": [
    "n = int(input(\"Enter a number :- \"))\n",
    "\n",
    "for i in range(n,0,-1):\n",
    "    for j in range(i,0,-1):\n",
    "        print j,\n",
    "    print"
   ]
  },
  {
   "cell_type": "code",
   "execution_count": 10,
   "metadata": {},
   "outputs": [
    {
     "name": "stdout",
     "output_type": "stream",
     "text": [
      "Enter a number :- 5\n",
      " 1 2 3 4 5\n",
      "   1 2 3 4\n",
      "     1 2 3\n",
      "       1 2\n",
      "         1\n"
     ]
    }
   ],
   "source": [
    "n = int(raw_input(\"Enter a number :- \"))\n",
    "\n",
    "for i in range(n,0,-1):\n",
    "    print '  '*(n-i),\n",
    "    for j in range(1,i+1):\n",
    "        print j,\n",
    "    print"
   ]
  },
  {
   "cell_type": "code",
   "execution_count": 11,
   "metadata": {},
   "outputs": [
    {
     "name": "stdout",
     "output_type": "stream",
     "text": [
      "Enter a number :- 6\n",
      " 6 5 4 3 2 1\n",
      "   5 4 3 2 1\n",
      "     4 3 2 1\n",
      "       3 2 1\n",
      "         2 1\n",
      "           1\n"
     ]
    }
   ],
   "source": [
    "n = int(raw_input(\"Enter a number :- \"))\n",
    "\n",
    "for i in range(n,0,-1):\n",
    "    print '  '*(n-i),\n",
    "    for j in range(i,0,-1):\n",
    "        print j,\n",
    "    print"
   ]
  },
  {
   "cell_type": "code",
   "execution_count": 12,
   "metadata": {},
   "outputs": [
    {
     "name": "stdout",
     "output_type": "stream",
     "text": [
      "Enter a number :- 5\n",
      "         5\n",
      "       4 5 4\n",
      "     3 4 5 4 3\n",
      "   2 3 4 5 4 3 2\n",
      " 1 2 3 4 5 4 3 2 1\n"
     ]
    }
   ],
   "source": [
    " n = int(input('Enter a number :- '))\n",
    "    \n",
    "for i in range(1,n+1):\n",
    "    print '  '*(n-i),\n",
    "    for j in range(1,i+1):\n",
    "        print j+(n-i),\n",
    "    for k in range(i-1,0,-1):\n",
    "        print k+(n-i),\n",
    "    print"
   ]
  },
  {
   "cell_type": "code",
   "execution_count": 13,
   "metadata": {},
   "outputs": [
    {
     "name": "stdout",
     "output_type": "stream",
     "text": [
      "Enter a number :- 6\n",
      "           6\n",
      "         5 6 5\n",
      "       4 5 6 5 4\n",
      "     3 4 5 6 5 4 3\n",
      "   2 3 4 5 6 5 4 3 2\n",
      " 1 2 3 4 5 6 5 4 3 2 1\n",
      "   2 3 4 5 6 5 4 3 2\n",
      "     3 4 5 6 5 4 3\n",
      "       4 5 6 5 4\n",
      "         5 6 5\n",
      "           6\n"
     ]
    }
   ],
   "source": [
    "n = int(input('Enter a number :- '))\n",
    "\n",
    "for i in range(1,n+1):\n",
    "    print '  '*(n-i),\n",
    "    for j in range(1,i+1):\n",
    "        print j+(n-i),\n",
    "    for k in range(i-1,0,-1):\n",
    "        print k+(n-i),\n",
    "    print\n",
    "for i in range(n-1,0,-1):\n",
    "    print '  '*(n-i),\n",
    "    for j in range(1,i+1):\n",
    "        print j+(n-i),\n",
    "    for k in range(i-1,0,-1):\n",
    "        print k+(n-i),\n",
    "    print"
   ]
  },
  {
   "cell_type": "code",
   "execution_count": 14,
   "metadata": {},
   "outputs": [
    {
     "name": "stdout",
     "output_type": "stream",
     "text": [
      "Enter a number :- 5\n",
      "         1\n",
      "       1 2 1\n",
      "     1 2 3 2 1\n",
      "   1 2 3 4 3 2 1\n",
      " 1 2 3 4 5 4 3 2 1\n"
     ]
    }
   ],
   "source": [
    "n = int(input(\"Enter a number :- \"))\n",
    "\n",
    "for i in range(1,n+1):\n",
    "    print '  '*(n-i),\n",
    "    for j in range(1,i+1):\n",
    "        print j,\n",
    "    for k in range(i-1,0,-1):\n",
    "        print k,\n",
    "    print"
   ]
  },
  {
   "cell_type": "code",
   "execution_count": 15,
   "metadata": {},
   "outputs": [
    {
     "name": "stdout",
     "output_type": "stream",
     "text": [
      "Enter a number :- 7\n",
      "             1\n",
      "           1 2 1\n",
      "         1 2 3 2 1\n",
      "       1 2 3 4 3 2 1\n",
      "     1 2 3 4 5 4 3 2 1\n",
      "   1 2 3 4 5 6 5 4 3 2 1\n",
      " 1 2 3 4 5 6 7 6 5 4 3 2 1\n",
      "   1 2 3 4 5 6 5 4 3 2 1\n",
      "     1 2 3 4 5 4 3 2 1\n",
      "       1 2 3 4 3 2 1\n",
      "         1 2 3 2 1\n",
      "           1 2 1\n",
      "             1\n"
     ]
    }
   ],
   "source": [
    "n = int(input(\"Enter a number :- \"))\n",
    "\n",
    "for i in range(1,n+1):\n",
    "    print '  '*(n-i),\n",
    "    for j in range(1,i+1):\n",
    "        print j,\n",
    "    for k in range(i-1,0,-1):\n",
    "        print k,\n",
    "    print\n",
    "    \n",
    "for i in range(n-1,0,-1):\n",
    "    print '  '*(n-i),\n",
    "    for j in range(1,i+1):\n",
    "        print j,\n",
    "    for k in range(i-1,0,-1):\n",
    "        print k,\n",
    "    print"
   ]
  },
  {
   "cell_type": "code",
   "execution_count": 16,
   "metadata": {},
   "outputs": [
    {
     "name": "stdout",
     "output_type": "stream",
     "text": [
      "Enter a number :- 5\n",
      " 1 2 3 4 5\n",
      "   2 3 4 5\n",
      "     3 4 5\n",
      "       4 5\n",
      "         5\n"
     ]
    }
   ],
   "source": [
    "n = int(raw_input(\"Enter a number :- \"))\n",
    "\n",
    "for i in range(n,0,-1):\n",
    "    print \"  \"*(n-i),\n",
    "    for j in range(1,i+1):\n",
    "        print j+(n-i),\n",
    "    print"
   ]
  },
  {
   "cell_type": "code",
   "execution_count": 17,
   "metadata": {},
   "outputs": [
    {
     "name": "stdout",
     "output_type": "stream",
     "text": [
      "Enter a number :- 5\n",
      " 1 2 3 4 5 4 3 2 1\n",
      "   2 3 4 5 4 3 2\n",
      "     3 4 5 4 3\n",
      "       4 5 4\n",
      "         5\n",
      "       4 5 4\n",
      "     3 4 5 4 3\n",
      "   2 3 4 5 4 3 2\n",
      " 1 2 3 4 5 4 3 2 1\n"
     ]
    }
   ],
   "source": [
    "n = int(raw_input('Enter a number :- '))\n",
    "\n",
    "for i in range(n,0,-1):\n",
    "    print '  '*(n-i),\n",
    "    for j in range(1,i+1):\n",
    "        print j+n-i,\n",
    "    for k in range(i-1,0,-1):\n",
    "        print k+n-i,\n",
    "    print\n",
    "    \n",
    "for i in range(2,n+1):\n",
    "    print '  '*(n-i),\n",
    "    for j in range(1,i+1):\n",
    "        print j+n-i,\n",
    "    for k in range(i-1,0,-1):\n",
    "        print k+n-i,\n",
    "    print"
   ]
  },
  {
   "cell_type": "markdown",
   "metadata": {},
   "source": [
    "## Alphabatical Pattern"
   ]
  },
  {
   "cell_type": "code",
   "execution_count": 18,
   "metadata": {},
   "outputs": [
    {
     "name": "stdout",
     "output_type": "stream",
     "text": [
      "97\n",
      "A\n"
     ]
    }
   ],
   "source": [
    "print(ord('a'))\n",
    "print(chr(65))"
   ]
  },
  {
   "cell_type": "code",
   "execution_count": 19,
   "metadata": {},
   "outputs": [
    {
     "name": "stdout",
     "output_type": "stream",
     "text": [
      "Enter a alphbet  :- 5\n",
      "a\n",
      "a b\n",
      "a b c\n",
      "a b c d\n",
      "a b c d e\n"
     ]
    }
   ],
   "source": [
    "n = int(input(\"Enter a alphbet  :- \"))\n",
    "\n",
    "for i in range(1,n+1):\n",
    "    for j in range(1,i+1):\n",
    "        print chr(96+j),\n",
    "    print"
   ]
  },
  {
   "cell_type": "code",
   "execution_count": 20,
   "metadata": {},
   "outputs": [
    {
     "name": "stdout",
     "output_type": "stream",
     "text": [
      "Enter a number :- 4\n",
      "a b c d\n",
      "a b c\n",
      "a b\n",
      "a\n"
     ]
    }
   ],
   "source": [
    "n = int(input('Enter a number :- '))\n",
    "\n",
    "for i in range(n,0,-1):\n",
    "    for j in range(1,i+1):\n",
    "        print chr(j+96),\n",
    "    print\n",
    "    "
   ]
  },
  {
   "cell_type": "code",
   "execution_count": 21,
   "metadata": {},
   "outputs": [
    {
     "name": "stdout",
     "output_type": "stream",
     "text": [
      "Enter a number :- 5\n",
      "         a\n",
      "       a b a\n",
      "     a b c b a\n",
      "   a b c d c b a\n",
      " a b c d e d c b a\n"
     ]
    }
   ],
   "source": [
    "n = int(input('Enter a number :- '))\n",
    "\n",
    "for i in range(1,n+1):\n",
    "    print '  '*(n-i),\n",
    "    for j in range(1,i+1):\n",
    "        print chr(j+96),\n",
    "    for k in range(i-1,0,-1):\n",
    "        print chr(k+96),\n",
    "    print"
   ]
  },
  {
   "cell_type": "code",
   "execution_count": 22,
   "metadata": {},
   "outputs": [
    {
     "name": "stdout",
     "output_type": "stream",
     "text": [
      "Enter a number :- 5\n",
      "         a\n",
      "       a b\n",
      "     a b c\n",
      "   a b c d\n",
      " a b c d e\n"
     ]
    }
   ],
   "source": [
    "n = int(input(\"Enter a number :- \"))\n",
    "\n",
    "for i in range(1,n+1):\n",
    "    print '  '*(n-i),\n",
    "    for j in range(1,i+1):\n",
    "        print chr(96+j),\n",
    "    print"
   ]
  },
  {
   "cell_type": "code",
   "execution_count": 23,
   "metadata": {},
   "outputs": [
    {
     "name": "stdout",
     "output_type": "stream",
     "text": [
      "Enter a number :- 5\n",
      "         a\n",
      "       b b\n",
      "     c c c\n",
      "   d d d d\n",
      " e e e e e\n"
     ]
    }
   ],
   "source": [
    "n = int(input(\"Enter a number :- \"))\n",
    "\n",
    "for i in range(1,n+1):\n",
    "    print '  '*(n-i),\n",
    "    for j in range(1,i+1):\n",
    "        print chr(96+i),\n",
    "    print"
   ]
  },
  {
   "cell_type": "code",
   "execution_count": 31,
   "metadata": {},
   "outputs": [
    {
     "name": "stdout",
     "output_type": "stream",
     "text": [
      "Enter a number :- 5\n",
      " a b c d e d c b a\n",
      "   b c d e d c b\n",
      "     c d e d c\n",
      "       d e d\n",
      "         e\n",
      "       d e d\n",
      "     c d e d c\n",
      "   b c d e d c b\n",
      " a b c d e d c b a\n"
     ]
    }
   ],
   "source": [
    "n = int(raw_input('Enter a number :- '))\n",
    "\n",
    "for i in range(n,0,-1):\n",
    "    print '  '*(n-i),\n",
    "    for j in range(1,i+1):\n",
    "        print chr(96+j+n-i),\n",
    "    for k in range(i-1,0,-1):\n",
    "        print chr(96+k+n-i),\n",
    "    print\n",
    "    \n",
    "for i in range(2,n+1):\n",
    "    print '  '*(n-i),\n",
    "    for j in range(1,i+1):\n",
    "        print chr(96+j+n-i),\n",
    "    for k in range(i-1,0,-1):\n",
    "        print chr(96+k+n-i),\n",
    "    print"
   ]
  },
  {
   "cell_type": "code",
   "execution_count": 32,
   "metadata": {},
   "outputs": [
    {
     "name": "stdout",
     "output_type": "stream",
     "text": [
      "Enter a number :- 5\n",
      "         e\n",
      "       d e d\n",
      "     c d e d c\n",
      "   b c d e d c b\n",
      " a b c d e d c b a\n",
      "   b c d e d c b\n",
      "     c d e d c\n",
      "       d e d\n",
      "         e\n"
     ]
    }
   ],
   "source": [
    "n = int(input('Enter a number :- '))\n",
    "\n",
    "for i in range(1,n+1):\n",
    "    print '  '*(n-i),\n",
    "    for j in range(1,i+1):\n",
    "        print chr(96+j+(n-i)),\n",
    "    for k in range(i-1,0,-1):\n",
    "        print chr(96+k+(n-i)),\n",
    "    print\n",
    "for i in range(n-1,0,-1):\n",
    "    print '  '*(n-i),\n",
    "    for j in range(1,i+1):\n",
    "        print chr(96+j+(n-i)),\n",
    "    for k in range(i-1,0,-1):\n",
    "        print chr(96+k+(n-i)),\n",
    "    print"
   ]
  },
  {
   "cell_type": "code",
   "execution_count": 33,
   "metadata": {},
   "outputs": [
    {
     "name": "stdout",
     "output_type": "stream",
     "text": [
      "Enter a number :- 5\n",
      "         a\n",
      "       a b a\n",
      "     a b c b a\n",
      "   a b c d c b a\n",
      " a b c d e d c b a\n",
      "   a b c d c b a\n",
      "     a b c b a\n",
      "       a b a\n",
      "         a\n"
     ]
    }
   ],
   "source": [
    "n = int(input(\"Enter a number :- \"))\n",
    "\n",
    "for i in range(1,n+1):\n",
    "    print '  '*(n-i),\n",
    "    for j in range(1,i+1):\n",
    "        print chr(96+j),\n",
    "    for k in range(i-1,0,-1):\n",
    "        print chr(96+k),\n",
    "    print\n",
    "    \n",
    "for i in range(n-1,0,-1):\n",
    "    print '  '*(n-i),\n",
    "    for j in range(1,i+1):\n",
    "        print chr(96+j),\n",
    "    for k in range(i-1,0,-1):\n",
    "        print chr(96+k),\n",
    "    print"
   ]
  },
  {
   "cell_type": "markdown",
   "metadata": {},
   "source": [
    "## star pattern python 2"
   ]
  },
  {
   "cell_type": "code",
   "execution_count": 24,
   "metadata": {},
   "outputs": [
    {
     "name": "stdout",
     "output_type": "stream",
     "text": [
      "\n",
      "*\n",
      "* *\n",
      "* * *\n",
      "* * * *\n"
     ]
    }
   ],
   "source": [
    "for i in range(5):\n",
    "    for j in range(i):\n",
    "        print '*',\n",
    "    print"
   ]
  },
  {
   "cell_type": "code",
   "execution_count": 25,
   "metadata": {},
   "outputs": [
    {
     "name": "stdout",
     "output_type": "stream",
     "text": [
      "     \n",
      "     *\n",
      "    * *\n",
      "   * * *\n",
      "  * * * *\n"
     ]
    }
   ],
   "source": [
    "for i in range(5):\n",
    "    print ' '*(5-i),\n",
    "    for j in range(i):\n",
    "        print '*',\n",
    "    print"
   ]
  },
  {
   "cell_type": "code",
   "execution_count": 26,
   "metadata": {},
   "outputs": [
    {
     "name": "stdout",
     "output_type": "stream",
     "text": [
      "          \n",
      "         *\n",
      "       * *\n",
      "     * * *\n",
      "   * * * *\n"
     ]
    }
   ],
   "source": [
    "for i in range(5):\n",
    "    print '  '*(5-i),\n",
    "    for j in range(i):\n",
    "        print '*',\n",
    "    print"
   ]
  },
  {
   "cell_type": "code",
   "execution_count": 27,
   "metadata": {},
   "outputs": [
    {
     "name": "stdout",
     "output_type": "stream",
     "text": [
      "enter a number :- 5\n",
      " * * * * *\n",
      "  * * * *\n",
      "   * * *\n",
      "    * *\n",
      "     *\n"
     ]
    }
   ],
   "source": [
    "n = int(input('enter a number :- '))\n",
    "for i in range(n,0,-1):\n",
    "    print ' '*(n-i),\n",
    "    for j in range(1,i+1):\n",
    "        print '*',\n",
    "    print"
   ]
  },
  {
   "cell_type": "code",
   "execution_count": 28,
   "metadata": {},
   "outputs": [
    {
     "name": "stdout",
     "output_type": "stream",
     "text": [
      "Enter a number :- 6\n",
      "           * * * * * *\n",
      "         *         *\n",
      "       *         *\n",
      "     *         *\n",
      "   *         *\n",
      " * * * * * *\n"
     ]
    }
   ],
   "source": [
    "# rombhos pattern\n",
    "\n",
    "n = int(input(\"Enter a number :- \"))\n",
    "\n",
    "for i in range(1,n+1):\n",
    "    print '  '*(n-i),\n",
    "    for j in range(1,n+1):\n",
    "        if j == 1 or j == n or i == 1 or i == n:\n",
    "            print '*',\n",
    "        else:\n",
    "            print ' ',\n",
    "    print"
   ]
  },
  {
   "cell_type": "code",
   "execution_count": null,
   "metadata": {},
   "outputs": [],
   "source": []
  }
 ],
 "metadata": {
  "kernelspec": {
   "display_name": "Python 2",
   "language": "python",
   "name": "python2"
  },
  "language_info": {
   "codemirror_mode": {
    "name": "ipython",
    "version": 2
   },
   "file_extension": ".py",
   "mimetype": "text/x-python",
   "name": "python",
   "nbconvert_exporter": "python",
   "pygments_lexer": "ipython2",
   "version": "2.7.15+"
  }
 },
 "nbformat": 4,
 "nbformat_minor": 2
}
